{
 "cells": [
  {
   "cell_type": "markdown",
   "id": "d520e0f1",
   "metadata": {},
   "source": [
    "# Experiment Tracking\n",
    "\n",
    "## Introduction\n",
    "- Ml Experiment: the process of building an ML model\n",
    "- Experiment run: each trial in an ML experiment\n",
    "- Run artifact: any file that is associated with an ML run\n",
    "- Experiment metadata: all info asscociated with the model\n",
    "\n",
    "Experiment tracking is the process of keeping track of all the relevant info from an ML experiment, which includes:\n",
    "- Source Code\n",
    "- Environment\n",
    "- Data\n",
    "- Model\n",
    "- Hyperparameters\n",
    "- Metric\n",
    "\n",
    "It is so important because:\n",
    "- Reproducibility\n",
    "- Organization\n",
    "- Optimization\n",
    "\n",
    "\n",
    "## MLflow\n",
    "An open source platform for the ML lifecycle. It is basically a python package that contains 4 modules:\n",
    "- Tracking: this module helps with the organization of experiments into runs, and it keeps track of:\n",
    "    - parameters: includes hyperparameter, path to the data, etc. it includes anything that affects the metrics of the model\n",
    "    - metrics: such as accuracy, metrics from the test or validation\n",
    "    - metadata: via tags such as developer names\n",
    "    - artifacts: such as visualization, etc\n",
    "    - models\n",
    "\n",
    "        MLflow automatically logs extra information about the run such as:\n",
    "        - Source code\n",
    "        - Version of the code (git commit)\n",
    "        - Start and end time\n",
    "        - Author\n",
    "\n",
    "- Models\n",
    "- Model Registry\n",
    "- Projects\n",
    "\n",
    "\n"
   ]
  },
  {
   "cell_type": "code",
   "execution_count": null,
   "id": "f3b254a5",
   "metadata": {},
   "outputs": [],
   "source": []
  }
 ],
 "metadata": {
  "language_info": {
   "name": "python"
  }
 },
 "nbformat": 4,
 "nbformat_minor": 5
}
