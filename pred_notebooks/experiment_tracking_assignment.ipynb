{
 "cells": [
  {
   "cell_type": "markdown",
   "id": "c6ad57a1",
   "metadata": {},
   "source": [
    "# Week 2 Assingment"
   ]
  },
  {
   "cell_type": "markdown",
   "id": "72e0a960",
   "metadata": {},
   "source": [
    "Q1. Install MLflow"
   ]
  },
  {
   "cell_type": "code",
   "execution_count": 10,
   "id": "0f5b0e02",
   "metadata": {},
   "outputs": [],
   "source": [
    "# import importlib.util\n",
    "# import sys\n",
    "\n",
    "# spec = importlib.util.spec_from_file_location(\"preprocess_data\", \"./ride_duration_pred_and_exp_tracking/scripts/preprocess_data.py\")\n",
    "# prep = importlib.util.module_from_spec(spec)\n",
    "# sys.modules[\"preprocess_data\"] = prep\n",
    "# spec.loader.exec_module(prep)"
   ]
  },
  {
   "cell_type": "code",
   "execution_count": 11,
   "id": "ce74a7d5",
   "metadata": {},
   "outputs": [
    {
     "name": "stdout",
     "output_type": "stream",
     "text": [
      "mlflow, version 2.22.0\n"
     ]
    }
   ],
   "source": [
    "!mlflow --version"
   ]
  },
  {
   "cell_type": "code",
   "execution_count": 12,
   "id": "1c71df7f",
   "metadata": {},
   "outputs": [],
   "source": [
    "!python ride_duration_pred_and_exp_tracking/scripts/preprocess_data.py --raw_data_path ./ride_duration_pred_and_exp_tracking/dataset/initial_dataset/assignment_dataset --dest_path ./ride_duration_pred_and_exp_tracking/dataset/cleaned_dataset/clean_assignment_dataset/"
   ]
  },
  {
   "cell_type": "code",
   "execution_count": null,
   "id": "458917e1",
   "metadata": {},
   "outputs": [],
   "source": []
  }
 ],
 "metadata": {
  "kernelspec": {
   "display_name": "Python 3 (ipykernel)",
   "language": "python",
   "name": "python3"
  },
  "language_info": {
   "codemirror_mode": {
    "name": "ipython",
    "version": 3
   },
   "file_extension": ".py",
   "mimetype": "text/x-python",
   "name": "python",
   "nbconvert_exporter": "python",
   "pygments_lexer": "ipython3",
   "version": "3.9.22"
  }
 },
 "nbformat": 4,
 "nbformat_minor": 5
}
