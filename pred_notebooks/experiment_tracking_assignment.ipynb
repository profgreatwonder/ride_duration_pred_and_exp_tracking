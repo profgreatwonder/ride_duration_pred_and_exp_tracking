{
 "cells": [
  {
   "cell_type": "markdown",
   "id": "c6ad57a1",
   "metadata": {},
   "source": [
    "# Week 2 Assingment"
   ]
  },
  {
   "cell_type": "markdown",
   "id": "72e0a960",
   "metadata": {},
   "source": [
    "Q1. Install MLflow"
   ]
  },
  {
   "cell_type": "code",
   "execution_count": 3,
   "id": "ce74a7d5",
   "metadata": {},
   "outputs": [
    {
     "name": "stdout",
     "output_type": "stream",
     "text": [
      "mlflow, version 2.22.0\n"
     ]
    }
   ],
   "source": [
    "!mlflow --version"
   ]
  }
 ],
 "metadata": {
  "kernelspec": {
   "display_name": "Python 3 (ipykernel)",
   "language": "python",
   "name": "python3"
  },
  "language_info": {
   "codemirror_mode": {
    "name": "ipython",
    "version": 3
   },
   "file_extension": ".py",
   "mimetype": "text/x-python",
   "name": "python",
   "nbconvert_exporter": "python",
   "pygments_lexer": "ipython3",
   "version": "3.9.22"
  }
 },
 "nbformat": 4,
 "nbformat_minor": 5
}
